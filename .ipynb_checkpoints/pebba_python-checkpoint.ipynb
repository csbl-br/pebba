{
 "cells": [
  {
   "cell_type": "code",
   "execution_count": 4,
   "metadata": {},
   "outputs": [],
   "source": [
    "import numpy as np\n",
    "import pandas as pd\n",
    "from pypathway import ORA\n",
    "\n",
    "from pypathway import GMTUtils\n"
   ]
  },
  {
   "cell_type": "markdown",
   "metadata": {},
   "source": [
    "#   \\_get_cutoff"
   ]
  },
  {
   "cell_type": "code",
   "execution_count": 5,
   "metadata": {
    "code_folding": [
     0
    ]
   },
   "outputs": [],
   "source": [
    "def _get_cutoff(deg_list, logFC_col, pvalue_col, min_genes, max_genes):\n",
    "    \n",
    "    dirs = [\"down\", \"up\"]\n",
    "    \n",
    "    res_up = _get_directional_cutoff(\"up\",deg_list, logFC_col, pvalue_col, min_genes, max_genes)\n",
    "    res_down = _get_directional_cutoff(\"down\",deg_list, logFC_col, pvalue_col, min_genes, max_genes)\n",
    "    \n",
    "    res = res_down.merge(res_up,on =\"TopCut\", how=\"outer\" , suffixes = (\"_down\",\"_up\"))\n",
    "    \n",
    "    \n",
    "    res[\"minimum_log2fc_combined\"] = res[['minimum_log2fc_down','minimum_log2fc_up']].min(axis=1)\n",
    "    res[\"minimum_MinuslogP_combined\"] = res[['minimum_MinuslogP_down','minimum_MinuslogP_up']].min(axis=1) \n",
    "    res[\"minimum_Pi_combined\"] = res[['minimum_Pi_down','minimum_Pi_up']].min(axis=1)\n",
    "    \n",
    "    \n",
    "    return res"
   ]
  },
  {
   "cell_type": "code",
   "execution_count": 6,
   "metadata": {
    "code_folding": [
     0
    ],
    "hide_input": false
   },
   "outputs": [],
   "source": [
    "def _get_directional_cutoff(direction,deg_list, logFC_col, pvalue_col, min_genes, max_genes):\n",
    "    if (direction == \"down\"):\n",
    "        ascending = True # no original, decreasing = False\n",
    "    else:\n",
    "        ascending = False\n",
    "            \n",
    "    #pega o deg_list e ordena de maneira decrescente ou crescente usando o logFC_col como chave\n",
    "    # ai ele pega só as n=max genes primeiras linhas e retorna os valores de logFC\n",
    "    top = deg_list.sort_values(by = logFC_col, ascending = ascending)[[logFC_col , pvalue_col]]\n",
    "    top = top[:max_genes]\n",
    "    \n",
    "    top[\"pi_value\"] = top[logFC_col].apply(abs) * (- top[pvalue_col].apply(np.log10))\n",
    "    top = top.sort_values(by = \"pi_value\" , ascending = False)\n",
    "    df = pd.DataFrame(columns = [\"minimum_log2fc\",\"minimum_MinuslogP\",\"minimum_Pi\", \"TopCut\"])\n",
    "    rows = []\n",
    "    for i in range(min_genes, max_genes,50):\n",
    "        top_genes = top.iloc[0:i]\n",
    "        minFC = min(abs(top_genes[logFC_col]))\n",
    "        maxP = max(top_genes[pvalue_col])\n",
    "        minP = - np.log10(maxP)\n",
    "        \n",
    "        minPi = min(top_genes[\"pi_value\"])\n",
    "        \n",
    "        ##### ja foi ordenado, entao posso so pegar o elemento especifico ao invez de procurar o elemento de novo\n",
    " #       minPi = min(top_genes.iloc[i,3])##### essa passagem n faz sentido\n",
    "\n",
    "        row = {\"minimum_log2fc\":minFC, \"minimum_MinuslogP\": minP , \"minimum_Pi\":minPi,\"TopCut\":i}\n",
    "        rows.append(row)\n",
    "    df = pd.DataFrame(rows)\n",
    "    df.set_index(\"TopCut\")\n",
    "    return df"
   ]
  },
  {
   "cell_type": "markdown",
   "metadata": {},
   "source": [
    "# \\_cutoff_path"
   ]
  },
  {
   "cell_type": "code",
   "execution_count": 19,
   "metadata": {
    "code_folding": []
   },
   "outputs": [],
   "source": [
    "def _cutoff_path(path_table, p_cut, direction):\n",
    "    \n",
    "    df_index = path_table.columns\n",
    "    df = pd.DataFrame()\n",
    "    df[\"MaxR\"] = path_table.max()\n",
    "    df[\"SumR\"] = path_table.sum()\n",
    "    path_cut_p = np.log10(p_cut) * (-1)\n",
    "    \n",
    "    \n",
    "    #How many pathways above path_cut_p (freq)    \n",
    "    how_many_pathways_above_cut = calculate_how_many_pathways_above_cut(path_table,path_cut_p, axis =0)\n",
    "    n_rows =len(path_table.index) ######\n",
    "    df[\"times\"] = how_many_pathways_above_cut / n_rows\n",
    "    \n",
    "    df.columns = [\"maximum_MinuslogP_\"+ direction,\n",
    "                  \"sum_MinuslogP_\"+ direction,\n",
    "                  \"times_significant_\"+ direction]\n",
    "    return df"
   ]
  },
  {
   "cell_type": "markdown",
   "metadata": {},
   "source": [
    "# \\_get_pathway"
   ]
  },
  {
   "cell_type": "code",
   "execution_count": 14,
   "metadata": {
    "code_folding": [
     0
    ]
   },
   "outputs": [],
   "source": [
    "def _get_pathway(merge_p, term2gene, all_genes, deg_list,gene_col, logFC_col, pvalue_col, direction, min_genes, max_genes, p_cut):\n",
    "   \n",
    "    top = get_top(direction, deg_list, max_genes, logFC_col)\n",
    "    \n",
    "    top[\"pi_value\"] = top[logFC_col].apply(abs) * (- top[pvalue_col].apply(np.log10))\n",
    "    top = top.sort_values(by = \"pi_value\", ascending =False).reset_index(drop = True)\n",
    "    \n",
    "      \n",
    "    pathGs = []  #melhorar isso\n",
    "    for i in range(min_genes , max_genes , 50):\n",
    "        top_genes = top.loc[0:i,gene_col].astype(str)\n",
    "        pathG = _run_enrich(top_genes, all_genes, gmt_file)\n",
    "        pathG.columns = [ \"term\" , str(i)]\n",
    "        pathG = pathG.set_index(\"term\",drop=True)\n",
    "        pathGs.append(pathG)\n",
    "    merge_p = pd.concat(pathGs, axis=1, join = \"outer\")\n",
    "    merge_p.fillna(1.0) # acho q n eh mais necessario, ORA faz sozinho\n",
    "    \n",
    "    merge_p2 = ( merge_p.apply(np.log10) )*(-1)\n",
    "    \n",
    "    path_cut_p = np.log10(p_cut)*(-1)\n",
    "    \n",
    "    df = summarizes_ORA_information(merge_p2, path_cut_p,direction)\n",
    "    merge_p2 = pd.concat([df, merge_p2], axis=1)    \n",
    "\n",
    "    \n",
    "    merge_p2 = merge_p2.sort_values(by = \"FirstTopCut_significant_\" + direction , ascending = False)\n",
    "    merge_p2 = merge_p2.drop(labels = [\"TopCut_highestMinuslogP_\" + direction ,\n",
    "                  \"maximum_MinuslogP_\" + direction ,\n",
    "                  \"sum_MinuslogP_\" + direction ,\n",
    "                  \"times_significant_\" + direction  ,\n",
    "                  \"FirstTopCut_significant_\" + direction , \n",
    "                  \"PEBBA_score_\" + direction], axis =1 )\n",
    "    \n",
    "    #refatorar toda essa nojeira legada\n",
    "    \n",
    "    return  df , merge_p2\n",
    "    \n"
   ]
  },
  {
   "cell_type": "code",
   "execution_count": 18,
   "metadata": {
    "code_folding": []
   },
   "outputs": [],
   "source": [
    "\n",
    "def get_top(direction, deg_list, max_genes, logFC_col):\n",
    "    \n",
    "    if(direction == \"up\"):\n",
    "        top = deg_list.sort_values(by = logFC_col, ascending = False).head(n=max_genes)\n",
    "    elif(direction ==\"down\"):\n",
    "        top = deg_list.sort_values(by= logFC_col, ascending = True).head(n=max_genes)\n",
    "    elif(direction ==\"any\"):\n",
    "        deg_list[logFC_col] = deg_list[logFC_col].astype(np.float64) \n",
    "        deg_list[logFC_col] = deg_list[logFC_col].abs()\n",
    "        top = deg_list.sort_values(by = logFC_col, ascending = True).head(n=max_genes)\n",
    "    else:\n",
    "        sys.exit(\"Invalid direction argument\")\n",
    "    return top"
   ]
  },
  {
   "cell_type": "code",
   "execution_count": 17,
   "metadata": {
    "code_folding": [
     1
    ]
   },
   "outputs": [],
   "source": [
    "\n",
    "def summarizes_ORA_information(merge_p2, path_cut_p, direction) :\n",
    "\n",
    "\n",
    "    NG = merge_p2.idxmax(axis = 1) # O recorte de genes q apresentou o maior p valor possui NG genes\n",
    "    NG = NG.astype(np.int64)\n",
    "    p_max = merge_p2.max(axis = 1)\n",
    "    p_sum = merge_p2.sum(axis = 1)\n",
    "    \n",
    "    num_columns_merge_p2 = merge_p2.shape[1]\n",
    "    how_many_pathways_above_cut = calculate_how_many_pathways_above_cut(merge_p2,path_cut_p,axis =1)\n",
    "     \n",
    "    times = how_many_pathways_above_cut / num_columns_merge_p2\n",
    "    \n",
    "    ES3 = (1 - np.exp(- p_max) / (1 + (0.1 * np.sqrt(NG)) ) )\n",
    "   \n",
    "    first = merge_p2.apply(first_column_above_path_cut_p , axis = 1, path_cut_p=path_cut_p )\n",
    "    first = first.apply(lambda x: merge_p2.columns[x] if x !=0 else 0 )\n",
    " \n",
    "    dicionario = {\"TopCut_highestMinuslogP_\" + direction : NG,\n",
    "                  \"maximum_MinuslogP_\" + direction : p_max ,\n",
    "                  \"sum_MinuslogP_\" + direction : p_sum,\n",
    "                  \"times_significant_\" + direction : times ,\n",
    "                  \"FirstTopCut_significant_\" + direction : first, \n",
    "                  \"PEBBA_score_\" + direction : ES3}\n",
    "    \n",
    "    df = pd.DataFrame(dicionario)\n",
    "    df[\"FirstTopCut_significant_\" + direction] = df[\"FirstTopCut_significant_\" + direction].astype(np.int64)\n",
    "    \n",
    "    return df"
   ]
  },
  {
   "cell_type": "code",
   "execution_count": 11,
   "metadata": {
    "code_folding": [
     0
    ]
   },
   "outputs": [],
   "source": [
    "def _run_enrich(top_genes, all_genes, gmt_file):\n",
    "    term2gene = GMTUtils.parse_gmt_file(gmt_file)\n",
    "    df = ORA.run(top_genes, all_genes, term2gene).df\n",
    "    df = df[[\"name\", \"fdr\"]]\n",
    "    return df   \n"
   ]
  },
  {
   "cell_type": "code",
   "execution_count": 12,
   "metadata": {
    "code_folding": [
     0
    ]
   },
   "outputs": [],
   "source": [
    "def first_column_above_path_cut_p(row, path_cut_p):\n",
    "    for cont , element in enumerate(row):\n",
    "        if element > path_cut_p:\n",
    "            return cont\n",
    "    \n",
    "    return 0"
   ]
  },
  {
   "cell_type": "code",
   "execution_count": 16,
   "metadata": {
    "code_folding": [
     1
    ]
   },
   "outputs": [],
   "source": [
    "\n",
    "def calculate_how_many_pathways_above_cut(df, path_cut_p,axis):\n",
    "    f = lambda x: x > path_cut_p\n",
    "    how_many_pathways_above_cut =  df.apply(f,axis=1).sum(axis=axis)\n",
    "    return how_many_pathways_above_cut   \n"
   ]
  },
  {
   "cell_type": "markdown",
   "metadata": {},
   "source": [
    "## backup"
   ]
  },
  {
   "cell_type": "code",
   "execution_count": null,
   "metadata": {
    "code_folding": [
     0
    ]
   },
   "outputs": [],
   "source": [
    "#\n",
    "# def calculate_how_many_pathways_above_cut(df, path_cut_p):\n",
    "#     f = lambda x: x > path_cut_p\n",
    "#     how_many_pathways_above_cut =  df.apply(f,axis=1).sum(axis=1)\n",
    "#     return how_many_pathways_above_cut   \n",
    "\n",
    "# # # \\_cutoff_path\n",
    "# # In[59]:\n",
    "\n",
    "# def _cutoff_path(path_table, p_cut, direction):\n",
    "    \n",
    "#     df_index = path_table.columns\n",
    "#     df = pd.DataFrame()\n",
    "#     df[\"MaxR\"] = path_table.max()\n",
    "#     df[\"SumR\"] = path_table.sum()\n",
    "#     path_cut_p = np.log10(p_cut) * (-1)\n",
    "    \n",
    "    \n",
    "#     #How many pathways above path_cut_p (freq)    \n",
    "#     how_many_pathways_above_cut = calculate_how_many_pathways_above_cut(path_table,path_cut_p)\n",
    "#     n_rows =len(path_table.index) ######\n",
    "#     print(how_many_pathways_above_cut)\n",
    "#     df[\"times\"] = how_many_pathways_above_cut / n_rows\n",
    "    \n",
    "#     df.columns = [\"maximum_MinuslogP_\"+ direction,\n",
    "#                   \"sum_MinuslogP_\"+ direction,\n",
    "#                   \"times_significant_\"+ direction]\n",
    "    \n",
    "#     df.set_index(df_index) #drop True inutil (?)\n",
    "# #     print(df)\n",
    "#     return df\n",
    "\n",
    "\n",
    "\n",
    "\n",
    "# def summarizes_ORA_information(merge_p2, path_cut_p, direction) :\n",
    "\n",
    "\n",
    "#     NG = merge_p2.idxmax(axis = 1) # O recorte de genes q apresentou o maior p valor possui NG genes\n",
    "#     NG = NG.astype(np.int64)\n",
    "#     p_max = merge_p2.max(axis = 1)\n",
    "#     p_sum = merge_p2.sum(axis = 1)\n",
    "    \n",
    "#     num_columns_merge_p2 = merge_p2.shape[1]\n",
    "#     how_many_pathways_above_cut = calculate_how_many_pathways_above_cut(merge_p2,path_cut_p)\n",
    "     \n",
    "#     times = how_many_pathways_above_cut / num_columns_merge_p2\n",
    "    \n",
    "#     ES3 = (1 - np.exp(- p_max) / (1 + (0.1 * np.sqrt(NG)) ) )\n",
    "   \n",
    "#     first = merge_p2.apply(first_column_above_path_cut_p , axis = 1, path_cut_p=path_cut_p )\n",
    "#     first = first.apply(lambda x: merge_p2.columns[x] if x !=0 else 0 )\n",
    " \n",
    "#     dicionario = {\"TopCut_highestMinuslogP_\" + direction : NG,\n",
    "#                   \"maximum_MinuslogP_\" + direction : p_max ,\n",
    "#                   \"sum_MinuslogP_\" + direction : p_sum,\n",
    "#                   \"times_significant_\" + direction : times ,\n",
    "#                   \"FirstTopCut_significant_\" + direction : first, \n",
    "#                   \"PEBBA_score_\" + direction : ES3}\n",
    "    \n",
    "#     df = pd.DataFrame(dicionario)\n",
    "#     df[\"FirstTopCut_significant_\" + direction] = df[\"FirstTopCut_significant_\" + direction].astype(np.int64)\n",
    "    \n",
    "#     return df\n"
   ]
  }
 ],
 "metadata": {
  "kernelspec": {
   "display_name": "Python 3",
   "language": "python",
   "name": "python3"
  },
  "language_info": {
   "codemirror_mode": {
    "name": "ipython",
    "version": 3
   },
   "file_extension": ".py",
   "mimetype": "text/x-python",
   "name": "python",
   "nbconvert_exporter": "python",
   "pygments_lexer": "ipython3",
   "version": "3.6.6"
  },
  "toc": {
   "base_numbering": 1,
   "nav_menu": {},
   "number_sections": false,
   "sideBar": true,
   "skip_h1_title": false,
   "title_cell": "Table of Contents",
   "title_sidebar": "Contents",
   "toc_cell": false,
   "toc_position": {},
   "toc_section_display": true,
   "toc_window_display": true
  }
 },
 "nbformat": 4,
 "nbformat_minor": 2
}

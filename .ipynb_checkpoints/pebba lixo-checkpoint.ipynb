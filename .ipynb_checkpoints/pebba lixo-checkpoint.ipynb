{
 "cells": [
  {
   "cell_type": "code",
   "execution_count": 1,
   "metadata": {},
   "outputs": [],
   "source": [
    ".get_cutoff <- function(deg_list, logFC_col, pvalue_col, min_genes, max_genes){\n",
    "    dirs <- c(\"down\", \"up\")\n",
    "\n",
    "    res <- lapply(dirs, function(direction){\n",
    "\n",
    "        decreasing <- ifelse(direction == \"down\", FALSE, TRUE)\n",
    "\n",
    "        top <- deg_list[head(order(deg_list[, logFC_col],\n",
    "                                   decreasing=decreasing),\n",
    "                             n=max_genes),\n",
    "                        c(logFC_col, pvalue_col)]\n",
    "        #Add pi_value\n",
    "        top$pi_value <- abs(top[, logFC_col]) * -log10(top[, pvalue_col])\n",
    "        #Order pi_value\n",
    "        top <- top[order(top$pi_value, decreasing=TRUE), ]\n",
    "        df1 <- data.frame(minFC=numeric(0), minP=numeric(0), minPi=numeric(0))\n",
    "        for (i in seq(from=min_genes, to=max_genes, by=50)) {\n",
    "            top_genes  <- top[1:i, ]\n",
    "            minFC <- min(abs(top_genes[, 1]))\n",
    "            maxP  <- max(top_genes[, 2])\n",
    "            minP  <- -log10(maxP)\n",
    "            minPi <- min(top_genes[i, 3])\n",
    "            rowX  <- data.frame(minFC=minFC, minP=minP, minPi=minPi)\n",
    "            df1 <- rbind(df1,rowX)\n",
    "        }\n",
    "        df1\n",
    "    })\n",
    "    names(res) <- dirs\n",
    "    top_cut <- seq(from=min_genes, to=max_genes, by=50)\n",
    "    res <- do.call(\"cbind\", res)\n",
    "    res <- cbind(top_cut, res)\n",
    "\n",
    "    res$fc <- apply(res, 1, function(x) min(x[2], x[6]) )\n",
    "    res$p  <- apply(res, 1, function(x) min(x[3], x[7]) )\n",
    "    res$pi <- apply(res, 1, function(x) min(x[4], x[8]) )\n",
    "\n",
    "    names(res) <- c(\"TopCut\", \"minimum_log2fc_down\", \"minimum_MinuslogP_down\",\n",
    "                    \"minimum_Pi_down\", \"minimum_log2fc_up\", \"minimum_MinuslogP_up\",\n",
    "                    \"minimum_Pi_up\", \"minimum_log2fc_combined\",\n",
    "                    \"minimum_MinuslogP_combined\", \"minimum_Pi_combined\")\n",
    "\n",
    "    rownames(res) <- res[, 1]\n",
    "    return(res)\n",
    "}"
   ]
  },
  {
   "cell_type": "code",
   "execution_count": null,
   "metadata": {},
   "outputs": [],
   "source": []
  }
 ],
 "metadata": {
  "kernelspec": {
   "display_name": "R",
   "language": "R",
   "name": "ir"
  },
  "language_info": {
   "codemirror_mode": "r",
   "file_extension": ".r",
   "mimetype": "text/x-r-source",
   "name": "R",
   "pygments_lexer": "r",
   "version": "3.4.4"
  }
 },
 "nbformat": 4,
 "nbformat_minor": 2
}

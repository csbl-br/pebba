{
 "cells": [
  {
   "cell_type": "markdown",
   "metadata": {},
   "source": [
    "## traduzir funcoes do modulo pebba. \n",
    "##  achar equivalente para run_enrich e ai poder terminar o _get_pathway"
   ]
  },
  {
   "cell_type": "code",
   "execution_count": 2,
   "metadata": {},
   "outputs": [],
   "source": [
    "import numpy as np\n",
    "import pandas as pd"
   ]
  },
  {
   "cell_type": "code",
   "execution_count": 4,
   "metadata": {},
   "outputs": [],
   "source": [
    "def _get_directional_cutoff(direction,deg_list, logFC_col, pvalue_col, min_genes, max_genes):\n",
    "    if (direction == \"down\"):\n",
    "        ascending = True # no original, decreasing = False\n",
    "    else:\n",
    "         ascending = False\n",
    "            \n",
    "    #pega o deg_list e ordena de maneira decrescente ou crescente usando o logFC_col como chave\n",
    "    # ai ele pega só as n=max genes primeiras linhas e retorna os valores de logFC\n",
    "    top = deg_list.sort(logFC_col, ascending = ascending)[[logFC_col , pvalue_col]]\n",
    "    top = top[:max_genes]\n",
    "    \n",
    "    top[\"pi_value\"] = top[logFC_col].apply(abs) * (- top[pvalue_col].apply(np.log10))\n",
    "    top = top.sort(columns = \"pi_value\" , ascending = False)\n",
    "    df1 = pd.DataFrame(columns = [\"minFC\",\"minP\",\"minPi\", \"topcut\"])\n",
    "    for i in range(min_genes, max_genes,50):\n",
    "        top_genes = top.ix[0:i]\n",
    "        minFC = min(abs(top_genes[logFc]))\n",
    "        maxP = max(top_genes[pvalue_col])\n",
    "        minP = - np.log10(maxP)\n",
    "        minPi = min(top_genes.ix[i,3])##### essa passagem n faz sentido\n",
    "        #topcut=i\n",
    "        row_X = {\"minFC\":minFC, \"minP\": minP , \"minPi\":minPi,\"topcut\":i}\n",
    "        df1.concat(row_X)\n",
    "    df1.set_index(\"topcut\")\n",
    "    return df1"
   ]
  },
  {
   "cell_type": "code",
   "execution_count": 5,
   "metadata": {},
   "outputs": [],
   "source": [
    "def _get_cutoff(deg_list, logFC_col, pvalue_col, min_genes, max_genes):\n",
    "    dirs = [\"down\", \"up\"]\n",
    "    res_up = get_directional_cutoff(\"up\",deg_list, logFC_col, pvalue_col, min_genes, max_genes)\n",
    "    res_down = get_directional_cutoff(\"down\",deg_list, logFC_col, pvalue_col, min_genes, max_genes)\n",
    "    res = res_down.merge(resp_up,on =\"topcut\", how=\"outer\" , suffixes = (\"_down\",\"_up\"))\n",
    "    \n",
    "    res[\"fc\"] = min(res[\"minFC_down\"],res[\"minFC_up\"])\n",
    "    res[\"p\"] = min(res[\"minP_down\"],res[\"minP_up\"])\n",
    "    res[\"pi\"] = min(res[\"minPi_down\"],res[\"minPi_up\"])\n",
    "    \n",
    "    #ver se isso vai funcionar, sepa vale a pena ja passar tudo com os nomes certos pra ter menos trabalho e mais limpo\n",
    "    res.columns= [\"TopCut\", \"minimum_log2fc_down\", \"minimum_MinuslogP_down\",\n",
    "                    \"minimum_Pi_down\", \"minimum_log2fc_up\", \"minimum_MinuslogP_up\",\n",
    "                    \"minimum_Pi_up\", \"minimum_log2fc_combined\",\n",
    "                    \"minimum_MinuslogP_combined\", \"minimum_Pi_combined\"]\n",
    "    return res"
   ]
  },
  {
   "cell_type": "code",
   "execution_count": null,
   "metadata": {},
   "outputs": [],
   "source": [
    "def _get_pathway(merge_p, term2gene, all_genes, deg_list,gene_col, logFC_col, pvalue_col, direction, min_genes, max_genes, p_cut):\n",
    "    if(direction == \"up\"):\n",
    "        top = deg_list.sort(columns = logFC_col, ascending = False).head(n=max_genes)\n",
    "    elif(direction ==\"down\"):\n",
    "        top = deg_list.sort(columns = logFC_col, ascending = True).head(n=max_genes)\n",
    "    elif(direction ==\"any\"):\n",
    "        top = deg_list.abs().sort(columns = logFC_col, ascending = True).head(n=max_genes)\n",
    "    else:\n",
    "        #stop(\"Invalid direction argument\") no original\n",
    "        print(\"Invalid direction argument\")\n",
    "        return\n",
    "    top[\"pi_value\"] = top[logFC_col].apply(abs) * (- top[pvalue_col].apply(np.log10))\n",
    "    top = top.sort(columns = \"pi_value\", ascending =False)\n",
    "    \n",
    "    for i in range(min_genes , max_genes , 50):\n",
    "        top_genes = top.loc[0:i,gene_col].astype(str)\n",
    "        pathG = _run_enrich(top_genes, all_genes, term2gene)\n",
    "        \n",
    "        #achar pacote equivalente para terminar\n",
    "        "
   ]
  },
  {
   "cell_type": "code",
   "execution_count": null,
   "metadata": {},
   "outputs": [],
   "source": [
    "def _run_enrich(top_genes, all_genes, term2gene):\n",
    "    #achar pacote equivalente\n",
    "    pass\n",
    "    return\n",
    "    "
   ]
  },
  {
   "cell_type": "code",
   "execution_count": null,
   "metadata": {},
   "outputs": [],
   "source": [
    "def _cutoff_path(path_table, p_cut, direction):\n",
    "    df = path_table\n",
    "    n_rows =len(df.index)\n",
    "    df[\"MaxR\"] = df.max(axis=1)\n",
    "    df[\"SumR\"] = df.sum(axis=1)\n",
    "    path_cut_p = np.log10(p_cut) * (-1)\n",
    "    #How many pathways above path_cut_p (freq)\n",
    "    \n",
    "    f = lambda x: x > path_cut_p\n",
    "    how_many_pathways_above_cut =  df.apply(f,axis=1).count()\n",
    "    df[\"times\"] = how_many_pathways_above_cut / n_rows\n",
    "    \n",
    "    df.columns = [\"maximum_MinuslogP_\"+ direction,\n",
    "                  \"sum_MinuslogP_\"+ direction,\n",
    "                  \"times_significant_\"+ direction]\n",
    "    return df"
   ]
  },
  {
   "cell_type": "code",
   "execution_count": null,
   "metadata": {},
   "outputs": [],
   "source": []
  }
 ],
 "metadata": {
  "kernelspec": {
   "display_name": "Python 3",
   "language": "python",
   "name": "python3"
  },
  "language_info": {
   "codemirror_mode": {
    "name": "ipython",
    "version": 3
   },
   "file_extension": ".py",
   "mimetype": "text/x-python",
   "name": "python",
   "nbconvert_exporter": "python",
   "pygments_lexer": "ipython3",
   "version": "3.5.2"
  }
 },
 "nbformat": 4,
 "nbformat_minor": 2
}

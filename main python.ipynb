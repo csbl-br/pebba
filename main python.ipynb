{
 "cells": [
  {
   "cell_type": "code",
   "execution_count": 7,
   "metadata": {},
   "outputs": [],
   "source": [
    "import os\n",
    "#import utils\n",
    "import pandas as pd"
   ]
  },
  {
   "cell_type": "code",
   "execution_count": null,
   "metadata": {},
   "outputs": [],
   "source": [
    "def pebba(file_in, \n",
    "          gmt_file, \n",
    "          gene_col=\"Gene.symbol\",\n",
    "          logFC_col=\"logFC\",\n",
    "          pvalue_col=\"P.Value\",\n",
    "          min_genes=100,\n",
    "          max_genes=1500,\n",
    "          p_cut=0.2,\n",
    "          verbose=True,\n",
    "          analysis_name= None, \n",
    "          results_dir=\"Results\",\n",
    "          force=False)\n",
    "\n",
    "\n",
    "    # Validating inputs\n",
    "    if(min_genes < 50 or min_genes > 2900):\n",
    "        print(\"Variable min_genes must be between 50 and 2900 genes\")\n",
    "        return\n",
    "    \n",
    "    if(max_genes < 100 or max_genes > 3000):\n",
    "        print(\"Variable max_genes must be between 100 and 3000 genes\")\n",
    "        return\n",
    "    \n",
    "    if(p_cut < 0.00001 or p_cut > 1):\n",
    "        print(\"Variable p_cut must be between 0.00001 and 1\")\n",
    "        return\n",
    "    \n",
    "\n",
    "\n",
    "\n",
    "    # Preparing files and workspace\n",
    "    ## Create a results directory\n",
    "    \n",
    "    if not os.path.exists(dirName): #cria diretorios se n existem\n",
    "        os.makedirs(\"Results/Tables\") \n",
    "        os.makedirs(\"Results/Heatmaps\") \n",
    "\n",
    "        \n",
    "    else:    \n",
    "        if(force) # se diretorio existe e eh pra forcar, faz nada e bola pra frente\n",
    "        else:     # se diretorio existe e forca eh falso, printa que ja existe o diretorio e aborta a funcao\n",
    "            print(\"Stopping analysis: \", results_dir, \" already exists! Use force=True to overwrite.\")\n",
    "            return\n",
    " \n",
    "    \n",
    "\n",
    "    \n",
    "    ## Get information from all unique terms\n",
    "    term2gene , path_desc , merge_p  = utils.read_gmt_hier(gmt_file)    # alterei funcao pra retornar o merge_p, ta retornando no formato de vetor mas talvez tenha q mudar para dataframe ou serie\n",
    "    \n",
    "    \n",
    "    \n",
    "    if( isinstance(file_in , str)):\n",
    "        deg_list = pd.read_csv(file_in, header = TRUE, sep = \"\\t\")\n",
    "        if(analysis_name is None):\n",
    "            analysis_name =   os.path.splitext(os.path.basename(file_in) )[0] # pega o basename e tira a extensao\n",
    "     \n",
    "    elif(isinstance(file_in , pd.DataFrame)):\n",
    "        deg_list = file_in\n",
    "    \n",
    "\n",
    "    if(analysis_name is None):\n",
    "        analysis_name = \"PEBBA_analysis\"\n",
    "    \n"
   ]
  },
  {
   "cell_type": "code",
   "execution_count": null,
   "metadata": {},
   "outputs": [],
   "source": []
  }
 ],
 "metadata": {
  "kernelspec": {
   "display_name": "Python 3",
   "language": "python",
   "name": "python3"
  },
  "language_info": {
   "codemirror_mode": {
    "name": "ipython",
    "version": 3
   },
   "file_extension": ".py",
   "mimetype": "text/x-python",
   "name": "python",
   "nbconvert_exporter": "python",
   "pygments_lexer": "ipython3",
   "version": "3.5.2"
  }
 },
 "nbformat": 4,
 "nbformat_minor": 2
}

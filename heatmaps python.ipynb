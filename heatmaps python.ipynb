{
 "cells": [
  {
   "cell_type": "code",
   "execution_count": 1,
   "metadata": {
    "hide_input": false,
    "scrolled": true
   },
   "outputs": [
    {
     "data": {
      "text/html": [
       "        <script type=\"text/javascript\">\n",
       "        window.PlotlyConfig = {MathJaxConfig: 'local'};\n",
       "        if (window.MathJax) {MathJax.Hub.Config({SVG: {font: \"STIX-Web\"}});}\n",
       "        if (typeof require !== 'undefined') {\n",
       "        require.undef(\"plotly\");\n",
       "        requirejs.config({\n",
       "            paths: {\n",
       "                'plotly': ['https://cdn.plot.ly/plotly-latest.min']\n",
       "            }\n",
       "        });\n",
       "        require(['plotly'], function(Plotly) {\n",
       "            window._Plotly = Plotly;\n",
       "        });\n",
       "        }\n",
       "        </script>\n",
       "        "
      ]
     },
     "metadata": {},
     "output_type": "display_data"
    }
   ],
   "source": [
    "import pandas as pd\n",
    "%matplotlib inline\n",
    "import numpy as np\n",
    "\n",
    "\n",
    "\n",
    "import plotly\n",
    "import plotly.plotly as py\n",
    "import plotly.graph_objs as go\n",
    "from plotly.offline import download_plotlyjs, init_notebook_mode, plot, iplot\n",
    "init_notebook_mode(connected=True) #pra rodar no notebook"
   ]
  },
  {
   "cell_type": "code",
   "execution_count": 3,
   "metadata": {
    "code_folding": [],
    "hide_input": false
   },
   "outputs": [
    {
     "data": {
      "application/vnd.plotly.v1+json": {
       "config": {
        "linkText": "Export to plot.ly",
        "plotlyServerURL": "https://plot.ly",
        "showLink": false
       },
       "data": [
        {
         "type": "heatmap",
         "uid": "4d8e2de5-15a0-42e8-b940-06a1ea0e42af",
         "x": [
          "Monday",
          "Tuesday",
          "Wednesday",
          "Thursday",
          "Friday"
         ],
         "y": [
          "Morning",
          "Afternoon",
          "Evening"
         ],
         "z": [
          [
           1,
           20,
           30,
           50,
           1
          ],
          [
           20,
           1,
           60,
           80,
           30
          ],
          [
           30,
           60,
           1,
           -10,
           20
          ]
         ]
        },
        {
         "type": "scatter",
         "uid": "5ee2fe8e-eb76-45b4-9f77-872d8bbd738b",
         "x": [
          20,
          30,
          40
         ],
         "xaxis": "x2",
         "y": [
          50,
          60,
          70
         ],
         "yaxis": "y2"
        }
       ],
       "layout": {
        "yaxis": {
         "domain": [
          0,
          0.5
         ]
        },
        "yaxis2": {
         "anchor": "x2",
         "domain": [
          0.6,
          1
         ]
        }
       }
      },
      "text/html": [
       "<div>\n",
       "        \n",
       "        \n",
       "            <div id=\"c68502ac-1a2c-446f-a36d-d77c3e5b33eb\" class=\"plotly-graph-div\" style=\"height:525px; width:100%;\"></div>\n",
       "            <script type=\"text/javascript\">\n",
       "                require([\"plotly\"], function(Plotly) {\n",
       "                    window.PLOTLYENV=window.PLOTLYENV || {};\n",
       "                    window.PLOTLYENV.BASE_URL='https://plot.ly';\n",
       "                    \n",
       "                if (document.getElementById(\"c68502ac-1a2c-446f-a36d-d77c3e5b33eb\")) {\n",
       "                    Plotly.newPlot(\n",
       "                        'c68502ac-1a2c-446f-a36d-d77c3e5b33eb',\n",
       "                        [{\"type\": \"heatmap\", \"uid\": \"4d8e2de5-15a0-42e8-b940-06a1ea0e42af\", \"x\": [\"Monday\", \"Tuesday\", \"Wednesday\", \"Thursday\", \"Friday\"], \"y\": [\"Morning\", \"Afternoon\", \"Evening\"], \"z\": [[1, 20, 30, 50, 1], [20, 1, 60, 80, 30], [30, 60, 1, -10, 20]]}, {\"type\": \"scatter\", \"uid\": \"5ee2fe8e-eb76-45b4-9f77-872d8bbd738b\", \"x\": [20, 30, 40], \"xaxis\": \"x2\", \"y\": [50, 60, 70], \"yaxis\": \"y2\"}],\n",
       "                        {\"yaxis\": {\"domain\": [0, 0.5]}, \"yaxis2\": {\"anchor\": \"x2\", \"domain\": [0.6, 1]}},\n",
       "                        {\"showLink\": false, \"linkText\": \"Export to plot.ly\", \"plotlyServerURL\": \"https://plot.ly\", \"responsive\": true}\n",
       "                    ).then(function(){\n",
       "                            \n",
       "var gd = document.getElementById('c68502ac-1a2c-446f-a36d-d77c3e5b33eb');\n",
       "var x = new MutationObserver(function (mutations, observer) {{\n",
       "        var display = window.getComputedStyle(gd).display;\n",
       "        if (!display || display === 'none') {{\n",
       "            console.log([gd, 'removed!']);\n",
       "            Plotly.purge(gd);\n",
       "            observer.disconnect();\n",
       "        }}\n",
       "}});\n",
       "\n",
       "// Listen for the removal of the full notebook cells\n",
       "var notebookContainer = gd.closest('#notebook-container');\n",
       "if (notebookContainer) {{\n",
       "    x.observe(notebookContainer, {childList: true});\n",
       "}}\n",
       "\n",
       "// Listen for the clearing of the current output cell\n",
       "var outputEl = gd.closest('.output');\n",
       "if (outputEl) {{\n",
       "    x.observe(outputEl, {childList: true});\n",
       "}}\n",
       "\n",
       "                        })\n",
       "                };\n",
       "                });\n",
       "            </script>\n",
       "        </div>"
      ]
     },
     "metadata": {},
     "output_type": "display_data"
    }
   ],
   "source": [
    "trace = go.Heatmap(z=[[1, 20, 30, 50, 1], [20, 1, 60, 80, 30], [30, 60, 1, -10, 20]],\n",
    "                   x=['Monday', 'Tuesday', 'Wednesday', 'Thursday', 'Friday'],\n",
    "                   y=['Morning', 'Afternoon', 'Evening'])\n",
    "\n",
    "\n",
    "trace2 = go.Scatter(\n",
    "    x=[20, 30, 40],\n",
    "    y=[50, 60, 70],\n",
    "    xaxis='x2',\n",
    "    yaxis='y2'\n",
    ")\n",
    "\n",
    "data=[trace, trace2]\n",
    "\n",
    "layout = go.Layout(\n",
    "#     xaxis=dict(\n",
    "#         domain=[0, 1]\n",
    "#     ),\n",
    "#     xaxis2=dict(\n",
    "#         domain=[0, 1]\n",
    "#     ),\n",
    "    yaxis = dict(domain = [0,0.5] ) ,\n",
    "    yaxis2 = dict(domain = [0.6,1], anchor='x2')\n",
    ")\n",
    "\n",
    "fig = go.Figure(data=data, layout=layout)\n",
    "iplot(fig, filename='labelled-heatmap.html')\n",
    "\n",
    "\n",
    "\n",
    "\n"
   ]
  },
  {
   "cell_type": "code",
   "execution_count": 4,
   "metadata": {
    "hide_input": true
   },
   "outputs": [
    {
     "data": {
      "application/vnd.plotly.v1+json": {
       "config": {
        "linkText": "Export to plot.ly",
        "plotlyServerURL": "https://plot.ly",
        "showLink": false
       },
       "data": [
        {
         "type": "heatmap",
         "uid": "77b380e7-d79b-4e49-ab7a-ec08d20ca11f",
         "z": [
          [
           1,
           20,
           30
          ],
          [
           20,
           1,
           60
          ],
          [
           30,
           60,
           1
          ]
         ]
        }
       ],
       "layout": {}
      },
      "text/html": [
       "<div>\n",
       "        \n",
       "        \n",
       "            <div id=\"9618672e-3624-441f-ab0d-eec0a827780d\" class=\"plotly-graph-div\" style=\"height:525px; width:100%;\"></div>\n",
       "            <script type=\"text/javascript\">\n",
       "                require([\"plotly\"], function(Plotly) {\n",
       "                    window.PLOTLYENV=window.PLOTLYENV || {};\n",
       "                    window.PLOTLYENV.BASE_URL='https://plot.ly';\n",
       "                    \n",
       "                if (document.getElementById(\"9618672e-3624-441f-ab0d-eec0a827780d\")) {\n",
       "                    Plotly.newPlot(\n",
       "                        '9618672e-3624-441f-ab0d-eec0a827780d',\n",
       "                        [{\"type\": \"heatmap\", \"uid\": \"77b380e7-d79b-4e49-ab7a-ec08d20ca11f\", \"z\": [[1, 20, 30], [20, 1, 60], [30, 60, 1]]}],\n",
       "                        {},\n",
       "                        {\"showLink\": false, \"linkText\": \"Export to plot.ly\", \"plotlyServerURL\": \"https://plot.ly\", \"responsive\": true}\n",
       "                    ).then(function(){\n",
       "                            \n",
       "var gd = document.getElementById('9618672e-3624-441f-ab0d-eec0a827780d');\n",
       "var x = new MutationObserver(function (mutations, observer) {{\n",
       "        var display = window.getComputedStyle(gd).display;\n",
       "        if (!display || display === 'none') {{\n",
       "            console.log([gd, 'removed!']);\n",
       "            Plotly.purge(gd);\n",
       "            observer.disconnect();\n",
       "        }}\n",
       "}});\n",
       "\n",
       "// Listen for the removal of the full notebook cells\n",
       "var notebookContainer = gd.closest('#notebook-container');\n",
       "if (notebookContainer) {{\n",
       "    x.observe(notebookContainer, {childList: true});\n",
       "}}\n",
       "\n",
       "// Listen for the clearing of the current output cell\n",
       "var outputEl = gd.closest('.output');\n",
       "if (outputEl) {{\n",
       "    x.observe(outputEl, {childList: true});\n",
       "}}\n",
       "\n",
       "                        })\n",
       "                };\n",
       "                });\n",
       "            </script>\n",
       "        </div>"
      ]
     },
     "metadata": {},
     "output_type": "display_data"
    }
   ],
   "source": [
    "trace = go.Heatmap(z=[[1, 20, 30],\n",
    "                      [20, 1, 60],\n",
    "                      [30, 60, 1]])\n",
    "data=[trace]\n",
    "iplot(data, filename='basic-heatmap')"
   ]
  },
  {
   "cell_type": "markdown",
   "metadata": {},
   "source": [
    "## Testes"
   ]
  },
  {
   "cell_type": "code",
   "execution_count": 10,
   "metadata": {
    "code_folding": [
     0
    ]
   },
   "outputs": [],
   "source": [
    "def read_gmt_hier(file_name):\n",
    "    '''\n",
    "    file_name string -> dataframe and dictionary\n",
    "    \n",
    "    Reads .gmt file and returns a Pandas DataFrame and a dictionary with the information of the gmt file in a format ready to be used.\n",
    "    \n",
    "    '''\n",
    "    gmt_names = []\n",
    "    gmt_desc  = []\n",
    "    gmt_genes = []\n",
    "    res =pd.DataFrame()\n",
    "\n",
    "    with open(file_name, 'r') as f:\n",
    "        # separar cada elemento separado por tab e guardar eles\n",
    "        for line in f:\n",
    "            gmt_names.append(line.split(\"\\t\")[0])\n",
    "            gmt_desc.append(line.split(\"\\t\")[1])\n",
    "            gmt_genes.append(line.split(\"\\t\")[2:])\n",
    "\n",
    "    for i in range(len(gmt_genes)) :\n",
    "\n",
    "        # apagar \\n presente no ultimo gene de cada lista (artefato da leitura do arquivo)\n",
    "        gmt_genes[i][-1] = gmt_genes[i][-1].replace(\"\\n\", \"\")\n",
    "\n",
    "        # Poem na forma de um dataframe, cada linha um gene e suas informações relativas \n",
    "        temp= pd.DataFrame({'term': [gmt_names[i]]*len(gmt_genes[i]), 'hier':  [gmt_desc[i]]*len(gmt_genes[i]), 'gene' : gmt_genes[i] })\n",
    "        res = pd.concat([res,temp])\n",
    "\n",
    "    # reseta o indice\n",
    "    res = res.reset_index(drop=True)    \n",
    "\n",
    "    #relação entre nomes e descricões  (é pra isso q essa variavel serve? no original é um datafra esquisito, achei q assim ia ser mais otimizado)   \n",
    "    path_desc = dict(zip(gmt_names,gmt_desc))\n",
    "\n",
    "    return res, path_desc , gmt_names"
   ]
  },
  {
   "cell_type": "code",
   "execution_count": 11,
   "metadata": {},
   "outputs": [],
   "source": [
    "    term2gene , path_desc , merge_p  = read_gmt_hier(\"data/Reactome_2016_15and100Genes.gmt\") #utils.read_gmt_hier(gmt_file)    \n",
    "   \n",
    "    ############################################\n",
    "    f = lambda df: [gene for gene in df[\"gene\"] ]\n",
    "    dict_genes_por_via = dict(term2gene.groupby([\"term\"]).apply(f) )\n",
    "    ################################################"
   ]
  },
  {
   "cell_type": "code",
   "execution_count": 20,
   "metadata": {},
   "outputs": [],
   "source": [
    "def create_interactive_plot(df, dict_genes_por_via , direction, analysis_name,cut_path):\n",
    "\n",
    "    heatmap = create_heatmap(df)\n",
    "    barplot = create_barplot(dict_genes_por_via, df)\n",
    "    line_plot = plot_number_of_enriched_pathways(cut_path)\n",
    "    \n",
    "    data=[heatmap, barplot, line_plot]\n",
    "    layout = go.Layout( xaxis = dict(domain = [0,0.80] , showticklabels = False), \n",
    "                       xaxis2 = dict(domain = [0,0.80] , showticklabels = False), \n",
    "                       xaxis3 = dict(domain = [0.85,1], anchor = \"y3\"), \n",
    "                       yaxis  = dict(domain = [0.30,1]) ,  \n",
    "                       yaxis2 = dict(domain = [0,0.25] ,autorange = 'reversed', anchor = \"x2\") ,\n",
    "                       yaxis3 = dict(domain = [0.30,1], anchor = \"x3\" ))\n",
    "    figure = go.Figure(data=data, layout=layout)\n",
    "\n",
    "    plot(figure, filename = analysis_name + \"_\" +  direction + '.html')"
   ]
  },
  {
   "cell_type": "code",
   "execution_count": 21,
   "metadata": {},
   "outputs": [],
   "source": [
    "def create_heatmap(df):\n",
    "    NGs = df.columns.tolist()\n",
    "    pathways = df.index.tolist()\n",
    "    valores = [ df[column].tolist() for column in df]\n",
    "\n",
    "    trace = go.Heatmap(z=valores, y=NGs, x=pathways)\n",
    "    return trace\n",
    "\n",
    "\n",
    "def create_barplot(dict_genes_por_via, df):\n",
    "    barplot = go.Bar(x = df.index.tolist(),\n",
    "                     y = [ len(dict_genes_por_via[via]) for via in df.index.tolist() ] ,\n",
    "                     orientation = \"v\",\n",
    "                     xaxis = \"x2\",\n",
    "                     yaxis = \"y2\"\n",
    "                     )\n",
    "    return barplot\n",
    "\n",
    "def plot_number_of_enriched_pathways(cut_path):\n",
    "    plot = go.Scatter(x = cut_path[\"times_significant_up\"].tolist(),\n",
    "                      y = cut_path.index.tolist(),\n",
    "                      orientation = \"h\",\n",
    "                      mode = 'lines+markers',\n",
    "                      name = 'lines+markers',\n",
    "                      xaxis = \"x3\",\n",
    "                      yaxis = \"y3\")\n",
    "    return plot"
   ]
  },
  {
   "cell_type": "code",
   "execution_count": 22,
   "metadata": {},
   "outputs": [],
   "source": [
    "create_interactive_plot(df, dict_genes_por_via , \"direction\", \"analise\", cut_path)"
   ]
  },
  {
   "cell_type": "code",
   "execution_count": 23,
   "metadata": {},
   "outputs": [],
   "source": [
    "df = pd.read_csv(\"Comparando_outputs/outputs_py/path_py_up.csv\", index_col=0)\n"
   ]
  },
  {
   "cell_type": "code",
   "execution_count": 4,
   "metadata": {},
   "outputs": [],
   "source": [
    "cut_path = pd.read_csv(\"Comparando_outputs/outputs_py/cut_path_py_up.csv\", index_col=0)\n"
   ]
  },
  {
   "cell_type": "code",
   "execution_count": 7,
   "metadata": {},
   "outputs": [
    {
     "data": {
      "text/plain": [
       "'temp-plot.html'"
      ]
     },
     "execution_count": 7,
     "metadata": {},
     "output_type": "execute_result"
    }
   ],
   "source": [
    "plot([plot_number_of_enriched_pathways(cut_path)], \"testeerver.html\")\n",
    "\n",
    "\n"
   ]
  },
  {
   "cell_type": "markdown",
   "metadata": {},
   "source": [
    "# TA DANDO PROBLEMA NO ANCHOR, FALTA SÓ JUNTAR ESSES 3 PLOTS"
   ]
  },
  {
   "cell_type": "code",
   "execution_count": null,
   "metadata": {},
   "outputs": [],
   "source": []
  }
 ],
 "metadata": {
  "kernelspec": {
   "display_name": "Python 3",
   "language": "python",
   "name": "python3"
  },
  "language_info": {
   "codemirror_mode": {
    "name": "ipython",
    "version": 3
   },
   "file_extension": ".py",
   "mimetype": "text/x-python",
   "name": "python",
   "nbconvert_exporter": "python",
   "pygments_lexer": "ipython3",
   "version": "3.6.6"
  },
  "toc": {
   "base_numbering": 1,
   "nav_menu": {},
   "number_sections": false,
   "sideBar": true,
   "skip_h1_title": false,
   "title_cell": "Table of Contents",
   "title_sidebar": "Contents",
   "toc_cell": false,
   "toc_position": {},
   "toc_section_display": true,
   "toc_window_display": false
  }
 },
 "nbformat": 4,
 "nbformat_minor": 2
}
